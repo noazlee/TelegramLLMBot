{
 "cells": [
  {
   "cell_type": "code",
   "execution_count": 2,
   "id": "f1cda317-a2c0-445b-8f9e-02d8d04ef705",
   "metadata": {},
   "outputs": [],
   "source": [
    "from wand.image import Image"
   ]
  },
  {
   "cell_type": "code",
   "execution_count": 3,
   "id": "c0926415-b13b-42b6-b49b-d163c00922c8",
   "metadata": {},
   "outputs": [],
   "source": [
    "def svg_to_png_bytes(svg_string): \n",
    "    # Convert SVG string to PNG bytes\n",
    "    with Image(blob=svg_string.encode('utf-8'), format='svg') as img:\n",
    "        img.format = 'png'\n",
    "        png_bytes = img.make_blob()\n",
    "    return png_bytes\n",
    "\n",
    "def python_math_execution(math_string):\n",
    "    try:\n",
    "        answer = eval(math_string)\n",
    "        if answer:\n",
    "            return str(answer)\n",
    "    except:\n",
    "        return 'invalid code generated' "
   ]
  },
  {
   "cell_type": "code",
   "execution_count": 4,
   "id": "3327a796-50e1-4a81-bee4-6407e6c60916",
   "metadata": {},
   "outputs": [],
   "source": [
    "functions = [ \n",
    "    {\n",
    "        \"type\": \"function\",\n",
    "        \"function\": {\n",
    "            \"name\": \"svg_to_png_bytes\",\n",
    "            \"description\": \"Generate a PNG from an SVG\",\n",
    "            \"parameters\": {\n",
    "                \"type\": \"object\",\n",
    "                \"properties\": {\n",
    "                    \"svg_string\": {\n",
    "                        \"type\":\n",
    "                        \"string\",\n",
    "                        \"description\":\n",
    "                        \"A fully formed SVG element in the form of a string\",\n",
    "                    },\n",
    "                },\n",
    "                \"required\": [\"svg_string\"],\n",
    "            },\n",
    "        },\n",
    "    },\n",
    "    {\n",
    "        \"type\": \"function\",\n",
    "        \"function\": {\n",
    "            \"name\": \"python_math_execution\",\n",
    "            \"description\": \"Solve a math problem using python code\",\n",
    "            \"parameters\": {\n",
    "                \"type\": \"object\",\n",
    "                \"properties\": {\n",
    "                    \"math_string\": {\n",
    "                        \"type\":\n",
    "                        \"string\",\n",
    "                        \"description\":\n",
    "                        \"A string that solves a math problem that conforms with python syntax that could be passed directly to an eval() function\",\n",
    "                    },\n",
    "                },\n",
    "                \"required\": [\"math_string\"],\n",
    "            },\n",
    "        },\n",
    "    },\n",
    "]"
   ]
  },
  {
   "cell_type": "code",
   "execution_count": 5,
   "id": "9b53d5e0-17f1-4535-a6cf-446f6220b717",
   "metadata": {},
   "outputs": [],
   "source": [
    "def run_function(name: str, args: dict): \n",
    "    if name == \"svg_to_png_bytes\":\n",
    "        return svg_to_png_bytes(args[\"svg_string\"])\n",
    "    elif name == \"python_math_execution\":\n",
    "        return python_math_execution(args[\"math_string\"])\n",
    "    else:\n",
    "        return None "
   ]
  }
 ],
 "metadata": {
  "kernelspec": {
   "display_name": "Python 3 (ipykernel)",
   "language": "python",
   "name": "python3"
  },
  "language_info": {
   "codemirror_mode": {
    "name": "ipython",
    "version": 3
   },
   "file_extension": ".py",
   "mimetype": "text/x-python",
   "name": "python",
   "nbconvert_exporter": "python",
   "pygments_lexer": "ipython3",
   "version": "3.10.0"
  }
 },
 "nbformat": 4,
 "nbformat_minor": 5
}
