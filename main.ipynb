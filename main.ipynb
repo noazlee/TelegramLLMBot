{
 "cells": [
  {
   "cell_type": "code",
   "execution_count": 1,
   "id": "f68a37e3-80d4-4121-b474-03bca206a847",
   "metadata": {},
   "outputs": [],
   "source": [
    "import os\n",
    "import logging\n",
    "import pandas as pd\n",
    "import numpy as np\n",
    "from questions import answer_question\n",
    "from telegram import Update\n",
    "from telegram.ext import ContextTypes, CommandHandler, ApplicationBuilder\n",
    "from openai import OpenAI\n",
    "import asyncio\n",
    "import nest_asyncio"
   ]
  },
  {
   "cell_type": "code",
   "execution_count": 2,
   "id": "2fdb0988-4eb7-4536-8993-79ce0fced630",
   "metadata": {},
   "outputs": [],
   "source": [
    "nest_asyncio.apply()"
   ]
  },
  {
   "cell_type": "code",
   "execution_count": 3,
   "id": "0bfc89b0-de9d-4231-b51e-9fafb5351b6a",
   "metadata": {},
   "outputs": [],
   "source": [
    "df = pd.read_csv('processed/embeddings.csv', index_col=0)\n",
    "df['embeddings'] = df['embeddings'].apply(eval).apply(np.array)"
   ]
  },
  {
   "cell_type": "code",
   "execution_count": 4,
   "id": "7bfa6885-63f3-4445-b7d8-8403ad20f5b2",
   "metadata": {},
   "outputs": [],
   "source": [
    "openai = OpenAI(api_key=os.environ['OPENAI_API_KEY'])\n",
    "tg_bot_token = os.environ['TG_BOT_TOKEN']"
   ]
  },
  {
   "cell_type": "code",
   "execution_count": 5,
   "id": "67bac20a-fd28-437a-a86a-7275c71d1f86",
   "metadata": {},
   "outputs": [],
   "source": [
    "messages = [{\n",
    "    \"role\":\"system\",\n",
    "    \"content\":\"You are a helpful assistant that answers questions.\"\n",
    "}]"
   ]
  },
  {
   "cell_type": "code",
   "execution_count": 6,
   "id": "d18ffbfc-7036-46d8-aac2-7e846dbcb03a",
   "metadata": {},
   "outputs": [],
   "source": [
    "logging.basicConfig(\n",
    "    format='%(asctime)s - %(name)s - $(levelname)s - %(message)s',\n",
    "    level=logging.INFO\n",
    ")"
   ]
  },
  {
   "cell_type": "code",
   "execution_count": 7,
   "id": "19921c02-574c-4f88-b551-f2ae2e5a34e8",
   "metadata": {},
   "outputs": [],
   "source": [
    "async def chat(update: Update, context: ContextTypes.DEFAULT_TYPE):\n",
    "    messages.append({\"role\":\"user\",\"content\":update.message.text})\n",
    "    completion = openai.chat.completions.create(model=\"gpt-3.5-turbo\",\n",
    "                                               messages=messages)\n",
    "    completion_answer=completion.choices[0].message\n",
    "    messages.append(completion_answer)\n",
    "\n",
    "    await context.bot.send_message(chat_id=update.effective_chat.id,\n",
    "                                  text=completion_answer.content)"
   ]
  },
  {
   "cell_type": "code",
   "execution_count": 8,
   "id": "93271b66-6b2f-4c69-a579-8eb2eac961ae",
   "metadata": {},
   "outputs": [],
   "source": [
    "async def mozilla(update: Update, context: ContextTypes.DEFAULT_TYPE):\n",
    "    answer = answer_question(df, question=update.message.text, debug=True)\n",
    "    await context.bot.send_message(chat_id=update.effective_chat.id, text=answer)"
   ]
  },
  {
   "cell_type": "code",
   "execution_count": 9,
   "id": "ad7f3ba2-5af0-4d34-9119-f4c69f6cde3e",
   "metadata": {},
   "outputs": [],
   "source": [
    "async def start(update: Update, context: ContextTypes.DEFAULT_TYPE):\n",
    "    await context.bot.send_message(chat_id=update.effective_chat.id,\n",
    "                                  text=\"I am a bot, please talk to me.\")"
   ]
  },
  {
   "cell_type": "code",
   "execution_count": 10,
   "id": "f6b078c9-79e3-48e6-98e3-ad9f6f0cb86b",
   "metadata": {},
   "outputs": [],
   "source": [
    "# Main function to run the bot\n",
    "async def main() -> None:\n",
    "    application = ApplicationBuilder().token(tg_bot_token).build()\n",
    "\n",
    "    start_handler = CommandHandler('start', start)\n",
    "    chat_handler = CommandHandler('chat', chat)\n",
    "    mozilla_handler = CommandHandler('mozilla', mozilla)\n",
    "\n",
    "    application.add_handler(start_handler)\n",
    "    application.add_handler(chat_handler)\n",
    "    application.add_handler(mozilla_handler)\n",
    "\n",
    "    await application.run_polling()"
   ]
  },
  {
   "cell_type": "code",
   "execution_count": null,
   "id": "2abd047c-760e-4481-926d-8c27c67add88",
   "metadata": {},
   "outputs": [
    {
     "name": "stderr",
     "output_type": "stream",
     "text": [
      "2024-07-03 15:17:58,480 - httpx - $(levelname)s - HTTP Request: POST https://api.telegram.org/bot7387544315:AAEuwrT3P6dwQ6emRERUjFrp7a1XebcqY8o/getMe \"HTTP/1.1 200 OK\"\n",
      "2024-07-03 15:17:58,672 - httpx - $(levelname)s - HTTP Request: POST https://api.telegram.org/bot7387544315:AAEuwrT3P6dwQ6emRERUjFrp7a1XebcqY8o/deleteWebhook \"HTTP/1.1 200 OK\"\n",
      "2024-07-03 15:17:58,674 - apscheduler.scheduler - $(levelname)s - Scheduler started\n",
      "2024-07-03 15:17:58,675 - telegram.ext.Application - $(levelname)s - Application started\n"
     ]
    }
   ],
   "source": [
    "# Check if the script is run directly (not imported)\n",
    "if __name__ == '__main__':\n",
    "    try:\n",
    "        asyncio.run(main())\n",
    "    except RuntimeError as e:\n",
    "        if str(e) == \"asyncio.run() cannot be called from a running event loop\":\n",
    "            loop = asyncio.get_event_loop()\n",
    "            loop.run_until_complete(main())\n",
    "        else:\n",
    "            raise"
   ]
  },
  {
   "cell_type": "code",
   "execution_count": null,
   "id": "0e7e15ac-88e4-4690-8298-bbd4d5af00d6",
   "metadata": {},
   "outputs": [],
   "source": []
  }
 ],
 "metadata": {
  "kernelspec": {
   "display_name": "Python 3 (ipykernel)",
   "language": "python",
   "name": "python3"
  },
  "language_info": {
   "codemirror_mode": {
    "name": "ipython",
    "version": 3
   },
   "file_extension": ".py",
   "mimetype": "text/x-python",
   "name": "python",
   "nbconvert_exporter": "python",
   "pygments_lexer": "ipython3",
   "version": "3.10.0"
  }
 },
 "nbformat": 4,
 "nbformat_minor": 5
}
