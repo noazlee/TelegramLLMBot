{
 "cells": [
  {
   "cell_type": "code",
   "execution_count": 2,
   "id": "58ab7973-4061-454c-a798-cd44b2a38f5d",
   "metadata": {},
   "outputs": [],
   "source": [
    "import numpy as np\n",
    "import pandas as pd\n",
    "from openai import OpenAI\n",
    "from typing import List\n",
    "from scipy import spatial\n",
    "from dotenv import load_dotenv\n",
    "import os"
   ]
  },
  {
   "cell_type": "code",
   "execution_count": 3,
   "id": "3c31ddbd-49df-4ef6-92fa-4433803aedbd",
   "metadata": {},
   "outputs": [
    {
     "data": {
      "text/plain": [
       "True"
      ]
     },
     "execution_count": 3,
     "metadata": {},
     "output_type": "execute_result"
    }
   ],
   "source": [
    "load_dotenv()"
   ]
  },
  {
   "cell_type": "code",
   "execution_count": 4,
   "id": "8b3e584e-7a09-4efd-a069-1a3221e5d065",
   "metadata": {},
   "outputs": [],
   "source": [
    "def distances_from_embeddings(\n",
    "    query_embedding: List[float],\n",
    "    embeddings: List[List[float]],\n",
    "    distance_metric=\"cosine\",\n",
    "    ) -> List[List]:\n",
    "    \"\"\"Return the distances between a query embedding and a list of embeddings.\"\"\" \n",
    "    distance_metrics = {\n",
    "        \"cosine\": spatial.distance.cosine,\n",
    "        \"L1\": spatial.distance.cityblock,\n",
    "        \"L2\": spatial.distance.euclidean,\n",
    "        \"Linf\": spatial.distance.chebyshev,\n",
    "    } \n",
    "\n",
    "    distances = [\n",
    "        distance_metrics[distance_metric](query_embedding, embedding)\n",
    "        for embedding in embeddings\n",
    "    ]\n",
    "\n",
    "    return distances"
   ]
  },
  {
   "cell_type": "code",
   "execution_count": 5,
   "id": "92cee0dc-2224-451b-a930-f0b319335d24",
   "metadata": {},
   "outputs": [],
   "source": [
    "openai = OpenAI(api_key=os.getenv(\"OPENAI_API_KEY\")) \n",
    "df = pd.read_csv('processed/embeddings.csv', index_col=0) "
   ]
  },
  {
   "cell_type": "code",
   "execution_count": 6,
   "id": "b8282b6c-3663-49eb-ac2b-6246a44a9c66",
   "metadata": {},
   "outputs": [],
   "source": [
    "df['embeddings'] = df['embeddings'].apply(eval).apply(np.array) "
   ]
  },
  {
   "cell_type": "code",
   "execution_count": 7,
   "id": "cda31324-ca96-49b1-a506-176fcb0aa821",
   "metadata": {},
   "outputs": [],
   "source": [
    "def create_context(question, df, max_len=1800): \n",
    "    \"\"\" \n",
    "    Create a context for a question by finding the most similar context from the dataframe \n",
    "    \"\"\" \n",
    "    # Get the embeddings for the question \n",
    "    q_embeddings = openai.embeddings.create( \n",
    "      input=question, model='text-embedding-ada-002').data[0].embedding\n",
    "    \n",
    "    # Get the distances from the embeddings \n",
    "    df['distances'] = distances_from_embeddings(q_embeddings,\n",
    "                                              df['embeddings'].values,\n",
    "                                              distance_metric='cosine') \n",
    "    \n",
    "    returns = [] \n",
    "    cur_len = 0 \n",
    "    \n",
    "    # Sort by distance and add the text to the context until the context is too long \n",
    "    for i, row in df.sort_values('distances', ascending=True).iterrows():\n",
    "        # Add the length of the text to the current length \n",
    "        cur_len += row['n_tokens'] + 4 \n",
    "        \n",
    "        # If the context is too long, break \n",
    "        if cur_len > max_len:\n",
    "          break \n",
    "        \n",
    "        # Else add it to the text that is being returned \n",
    "        returns.append(row[\"text\"]) \n",
    "      \n",
    "    # Return the context \n",
    "    return \"\\n\\n###\\n\\n\".join(returns) "
   ]
  },
  {
   "cell_type": "code",
   "execution_count": 8,
   "id": "909a36be-de54-46f2-acaa-cdaa32f1f159",
   "metadata": {},
   "outputs": [],
   "source": [
    "def answer_question(df, \n",
    "                model=\"gpt-3.5-turbo-1106\",\n",
    "                question=\"What is the meaning of life?\",\n",
    "                max_len=1800,\n",
    "                debug=False,\n",
    "                max_tokens=150,\n",
    "                stop_sequence=None): \n",
    "    \"\"\" \n",
    "    Answer a question based on the most similar context from the dataframe texts \n",
    "    \"\"\" \n",
    "    context = create_context( \n",
    "      question,\n",
    "      df,\n",
    "      max_len=max_len,\n",
    "    ) \n",
    "    \n",
    "    # If debug, print the raw model response \n",
    "    if debug: \n",
    "        print(\"Context:\\n\" + context)\n",
    "        print(\"\\n\\n\")\n",
    "    \n",
    "    try: \n",
    "        # Create a completions using the question and context \n",
    "        response = openai.chat.completions.create(\n",
    "            model=model,\n",
    "            messages=[{\n",
    "                \"role\":\n",
    "                \"user\",\n",
    "                \"content\":\n",
    "                f\"Answer the question based on the context below, and if the question can't be answered based on the context, say \\\"I don't know.\\\" Try to site sources to the links in the context when possible.\\n\\nContext: {context}\\n\\n---\\n\\nQuestion: {question}\\nSource:\\nAnswer:\", \n",
    "            }],\n",
    "            temperature=0,\n",
    "            max_tokens=max_tokens,\n",
    "            top_p=1,\n",
    "            frequency_penalty=0,\n",
    "            presence_penalty=0,\n",
    "            stop=stop_sequence,\n",
    "        ) \n",
    "        return response.choices[0].message.content\n",
    "    except Exception as e:\n",
    "        print(e) \n",
    "        return \"\" "
   ]
  },
  {
   "cell_type": "code",
   "execution_count": null,
   "id": "9fef527f-de0e-451b-9dfb-73faa0a4f33b",
   "metadata": {},
   "outputs": [],
   "source": []
  }
 ],
 "metadata": {
  "kernelspec": {
   "display_name": "Python 3 (ipykernel)",
   "language": "python",
   "name": "python3"
  },
  "language_info": {
   "codemirror_mode": {
    "name": "ipython",
    "version": 3
   },
   "file_extension": ".py",
   "mimetype": "text/x-python",
   "name": "python",
   "nbconvert_exporter": "python",
   "pygments_lexer": "ipython3",
   "version": "3.10.0"
  }
 },
 "nbformat": 4,
 "nbformat_minor": 5
}
